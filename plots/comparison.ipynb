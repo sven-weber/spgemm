{
 "cells": [
  {
   "cell_type": "code",
   "execution_count": null,
   "metadata": {},
   "outputs": [],
   "source": [
    "import pandas as pd\n",
    "from pathlib import Path\n",
    "from plots.loader import get_subfolders, load_multiple_timings\n",
    "\n",
    "folders = get_subfolders(Path(\"./measurements/runs_eiger_16\"))\n",
    "folders += get_subfolders(Path(\"./measurements/runs_eiger_64\"))\n",
    "# Returns the matrix name and a dictionary of mapping from function to dataframe\n",
    "matrix, ft = load_multiple_timings(folders, 'nlpkkt240')"
   ]
  },
  {
   "cell_type": "code",
   "execution_count": null,
   "metadata": {},
   "outputs": [],
   "source": [
    "import matplotlib.pyplot as plt\n",
    "from matplotlib.ticker import ScalarFormatter\n",
    "\n",
    "# SCALING_FACTOR = 10**9 # for seconds\n",
    "SCALING_FACTOR = 10**6\n",
    "plt.rcParams['font.family'] = 'Computer Modern Roman'\n",
    "plt.rcParams['text.usetex'] = True\n",
    "\n",
    "plt.rcParams['axes.labelsize'] = 18\n",
    "plt.rcParams['xtick.labelsize'] = 18\n",
    "plt.rcParams['ytick.labelsize'] = 18\n",
    "STYLES = {\n",
    "    # color, marker, offst, name\n",
    "    \"comb1d\": ('deeppink', 'D', (-90, 10), \"\\\\textsc{Comb1D}\", None),\n",
    "    \"comb2d\": ('dodgerblue', 'o', (-80, 10), \"\\\\textsc{Comb2D}\", None),\n",
    "    \"comb3d\": ('brown', '^', (-150, -35), \"\\\\textsc{Comb3D}\", None),\n",
    "    \"drop_parallel\": ('goldenrod', 'h', (-40, -15), \"\\\\textsc{Ours}\", None),\n",
    "    \"drop_parallel_1\": ('brown', 'h', (-40, -15), \"\\\\textsc{Ours}\", None),\n",
    "    # \"todo3\": ('brown', '^', (-210, -135), \"\\\\textsc{Tensor Macro}\", 26),\n",
    "    # \"todo4\": ('darkcyan', 'H', (-75, -15), \"\\\\textsc{Merged}\", None),\n",
    "    # \"todo5\": ('darkolivegreen', 's', (-120, -118), \"\\\\textsc{Merged+Blocked}\", None),\n",
    "}"
   ]
  },
  {
   "cell_type": "code",
   "execution_count": null,
   "metadata": {},
   "outputs": [],
   "source": [
    "ft.keys()"
   ]
  },
  {
   "cell_type": "code",
   "execution_count": null,
   "metadata": {},
   "outputs": [],
   "source": [
    "fig = plt.figure(figsize=(10, 8), dpi=100)\n",
    "ax = fig.add_subplot()\n",
    "\n",
    "keysm = {}\n",
    "keysm[16] = 0\n",
    "keysm[64] = 1\n",
    "# keysm[64] = 0\n",
    "# keysm[256] = 1\n",
    "# keysm[100] = 3\n",
    "# keysm[144] = 4\n",
    "# keysm[196] = 5\n",
    "\n",
    "for algo, pretty_name in [('comb1d', 'Comb1D'), ('comb2d', 'Comb2D'), ('comb3d', 'Comb3D'), ('drop_parallel', 'DropParallel')]: #('comb1d', 'Comb1D')\n",
    "    timings = ft[algo]\n",
    "    if 'func' not in timings: \n",
    "        continue\n",
    "    func_data = timings[timings['func'] == 'gemm']\n",
    "\n",
    "    timings = []\n",
    "    for key, group in func_data.groupby('nodes'): #mpi\n",
    "        value = group[\"duration\"]\n",
    "        avg = value.mean()/SCALING_FACTOR\n",
    "        timings.append({\n",
    "            \"key\": key,\n",
    "            \"avg\": avg,\n",
    "            \"min\": min(value.quantile(0.025)/SCALING_FACTOR, avg),\n",
    "            \"max\": max(value.quantile(0.975)/SCALING_FACTOR, avg)\n",
    "        })\n",
    "\n",
    "    timings = pd.DataFrame(timings)\n",
    "    # Calculate the error bars\n",
    "    eb = [\n",
    "        (timings['avg'] - timings['min']),\n",
    "        (timings['max'] - timings['avg'])\n",
    "    ]\n",
    "\n",
    "    color, marker, offst, name, rotation = STYLES[algo]\n",
    "\n",
    "    keys = timings[\"key\"]\n",
    "    values = timings[\"avg\"]\n",
    "    ax.annotate(name, (keysm[keys.iloc[-1]], values.iloc[-1]), color=color, xytext=offst, textcoords='offset points', fontsize='x-large', rotation=rotation or 0)\n",
    "    ax.errorbar([keysm[key] for key in timings[\"key\"]], values, yerr=eb, label=algo, marker=marker, color=color)\n",
    "\n",
    "    ax.set_xlabel(\"Cores\")\n",
    "    ax.set_ylabel('Time [ms]',\n",
    "            rotation='horizontal',\n",
    "            loc='top')\n",
    "    ax.yaxis.set_label_coords(0.07, 1.015) \n",
    "    ax.set_xticks(range(len(keys)), labels=[f\"\\\\begin{{center}}{mpi}~\\\\texttt{{nodes}}\\\\\\\\{mpi * 36}\\\\end{{center}}\"for mpi in keys])\n",
    "\n",
    "ax.tick_params(axis='both', direction='in', which='major', pad=5)\n",
    "ax.grid(which='major', axis='y', linewidth=.5, dashes=(3,3))\n",
    "ax.yaxis.set_ticks_position('both')\n",
    "ax.xaxis.set_ticks_position('both')\n",
    "plt.yscale('log', base=2)\n",
    "from matplotlib.ticker import FuncFormatter\n",
    "ax.yaxis.set_major_formatter(FuncFormatter(lambda y, _: f'{y:.0f}'))\n",
    "\n",
    "ax.set_title(\"Squaring computation on \\\\texttt{\" + matrix + \"}\", fontsize=15)"
   ]
  },
  {
   "cell_type": "code",
   "execution_count": null,
   "metadata": {},
   "outputs": [],
   "source": [
    "fig.savefig(\"runtime_2.pdf\", bbox_inches=\"tight\")"
   ]
  },
  {
   "cell_type": "code",
   "execution_count": null,
   "metadata": {},
   "outputs": [],
   "source": []
  }
 ],
 "metadata": {
  "kernelspec": {
   "display_name": ".venv",
   "language": "python",
   "name": "python3"
  },
  "language_info": {
   "codemirror_mode": {
    "name": "ipython",
    "version": 3
   },
   "file_extension": ".py",
   "mimetype": "text/x-python",
   "name": "python",
   "nbconvert_exporter": "python",
   "pygments_lexer": "ipython3",
   "version": "3.12.2"
  }
 },
 "nbformat": 4,
 "nbformat_minor": 2
}

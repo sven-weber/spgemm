{
 "cells": [
  {
   "cell_type": "code",
   "execution_count": 30,
   "metadata": {},
   "outputs": [],
   "source": [
    "from plots.loader import load_timings, load_algorithm\n",
    "import pandas as pd\n",
    "import numpy as np\n",
    "from pathlib import Path\n",
    "\n",
    "paths = {\n",
    "    \"256\": Path(\"measurements/nlpkkt240/sections/64-256\"),\n",
    "    \"512\": Path(\"measurements/nlpkkt240/sections/64-512\"),\n",
    "    \"1024\": Path(\"measurements/nlpkkt240/sections/64-1024\"),\n",
    "    \"4096\": Path(\"measurements/nlpkkt240/sections/64-4096\"),\n",
    "    \"8096\": Path(\"measurements/nlpkkt240/sections/64-8096\"),\n",
    "}\n",
    "bps = { key: load_timings(path) for key, path in paths.items() }\n",
    "nodes = 64\n",
    "\n",
    "for key, bp in bps.items():\n",
    "    assert load_algorithm(paths[key]) == 'drop_parallel'\n",
    "    assert len(bp) == nodes"
   ]
  },
  {
   "cell_type": "code",
   "execution_count": 31,
   "metadata": {},
   "outputs": [],
   "source": [
    "import matplotlib.pyplot as plt\n",
    "\n",
    "# SCALING_FACTOR = 10**9 # for seconds\n",
    "SCALING_FACTOR = 10**6\n",
    "plt.rcParams['font.family'] = 'Computer Modern Roman'\n",
    "plt.rcParams['text.usetex'] = True\n",
    "\n",
    "plt.rcParams['axes.labelsize'] = 18\n",
    "plt.rcParams['xtick.labelsize'] = 18\n",
    "plt.rcParams['ytick.labelsize'] = 18\n",
    "STYLES = {\n",
    "    # color, marker, offst, name\n",
    "    \"comm\": 'tab:blue',\n",
    "    \"mult\": 'tab:orange',\n",
    "    \"other\": 'tab:green',\n",
    "    \"wait\": 'tab:grey'\n",
    "}"
   ]
  },
  {
   "cell_type": "code",
   "execution_count": 32,
   "metadata": {},
   "outputs": [
    {
     "data": {
      "text/plain": [
       "<matplotlib.legend.Legend at 0x7f52bc915850>"
      ]
     },
     "execution_count": 32,
     "metadata": {},
     "output_type": "execute_result"
    },
    {
     "data": {
      "image/png": "[encoded data removed]",
      "text/plain": [
       "<Figure size 500x700 with 2 Axes>"
      ]
     },
     "metadata": {},
     "output_type": "display_data"
    }
   ],
   "source": [
    "fig, axs = plt.subplots(1, len(bps), sharey=True, figsize=(1+2*len(bps), 7))\n",
    "\n",
    "i = 0\n",
    "for name, bp in bps.items():\n",
    "    ax = axs[i]\n",
    "    m = max([df[df['func'] == 'gemm']['duration'].mean() for df in bp.values()])/SCALING_FACTOR\n",
    "\n",
    "    timings = []\n",
    "    for key, df in bp.items():\n",
    "        wait_s = df[df['func'] == 'wait_all']['duration']\n",
    "        wait = (wait_s.mean() * nodes)/SCALING_FACTOR\n",
    "        mult_s = df[df['func'] == 'mult']['duration']\n",
    "        mult = (mult_s.mean() * nodes)/SCALING_FACTOR\n",
    "        gemm_s = df[df['func'] == 'gemm']['duration']\n",
    "        gemm = gemm_s.mean()/SCALING_FACTOR\n",
    "        timings.append({\n",
    "            \"key\": key,\n",
    "            \"comm\": wait,\n",
    "            \"mult\": mult,\n",
    "            \"other\": gemm - mult - wait,\n",
    "            \"wait\": m - gemm,\n",
    "        })\n",
    "\n",
    "    timings = pd.DataFrame(timings)\n",
    "\n",
    "    keys = timings[\"key\"]\n",
    "    bottom = np.zeros(len(timings))\n",
    "    for key, pretty_key in (('comm', 'Communication'), ('mult', 'Multiplication'), ('other', 'Other'), ('wait', 'Wait')):\n",
    "        ax.bar(keys, timings[key], 1.0, label=pretty_key, bottom=bottom, color=STYLES[key])\n",
    "        bottom += timings[key]\n",
    "\n",
    "    ax.set_xlabel(\"MPI Rank\", fontsize=12)\n",
    "    if i == 0:\n",
    "        ax.set_ylabel('Time [ms]',\n",
    "                rotation='horizontal',\n",
    "                loc='top',\n",
    "                labelpad=-20)\n",
    "    \n",
    "    ax.set_title(name)\n",
    "\n",
    "    ax.tick_params(axis='both', direction='in', which='major', pad=5)\n",
    "    xs = [0,nodes-1]\n",
    "    ax.get_xaxis().set_ticks(xs, labels=xs)\n",
    "    i += 1\n",
    "\n",
    "plt.legend()"
   ]
  }
 ],
 "metadata": {
  "kernelspec": {
   "display_name": "Python 3",
   "language": "python",
   "name": "python3"
  },
  "language_info": {
   "codemirror_mode": {
    "name": "ipython",
    "version": 3
   },
   "file_extension": ".py",
   "mimetype": "text/x-python",
   "name": "python",
   "nbconvert_exporter": "python",
   "pygments_lexer": "ipython3",
   "version": "3.11.10"
  }
 },
 "nbformat": 4,
 "nbformat_minor": 2
}
